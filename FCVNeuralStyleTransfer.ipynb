{
  "nbformat": 4,
  "nbformat_minor": 0,
  "metadata": {
    "colab": {
      "provenance": [],
      "gpuType": "T4"
    },
    "kernelspec": {
      "name": "python3",
      "display_name": "Python 3"
    },
    "language_info": {
      "name": "python"
    },
    "accelerator": "GPU",
    "gpuClass": "standard"
  },
  "cells": [
    {
      "cell_type": "code",
      "execution_count": 8,
      "metadata": {
        "colab": {
          "base_uri": "https://localhost:8080/"
        },
        "id": "m1wL_sAd9vLY",
        "outputId": "942a2d97-d7ed-4607-bba8-5536526a5e15"
      },
      "outputs": [
        {
          "output_type": "stream",
          "name": "stdout",
          "text": [
            "Cloning into 'Neural-Style-Transfer'...\n",
            "remote: Enumerating objects: 47, done.\u001b[K\n",
            "remote: Counting objects: 100% (47/47), done.\u001b[K\n",
            "remote: Compressing objects: 100% (46/46), done.\u001b[K\n",
            "remote: Total 47 (delta 0), reused 47 (delta 0), pack-reused 0\u001b[K\n",
            "Unpacking objects: 100% (47/47), 27.88 MiB | 13.27 MiB/s, done.\n"
          ]
        }
      ],
      "source": [
        "!git clone https://github.com/deijiokzen/Neural-Style-Transfer\n"
      ]
    },
    {
      "cell_type": "code",
      "source": [
        "!python /content/Neural-Style-Transfer/styleTransfer.py --content_path /content/Neural-Style-Transfer/inputs/content/C2.png --style_path /content/Neural-Style-Transfer/inputs/style/S2.jpg  --output_path ./saudahmed.jpg"
      ],
      "metadata": {
        "colab": {
          "base_uri": "https://localhost:8080/"
        },
        "id": "LE-49jE59zBF",
        "outputId": "891c5d94-e16a-4d49-a595-8f5ba0aa3451"
      },
      "execution_count": 12,
      "outputs": [
        {
          "output_type": "stream",
          "name": "stdout",
          "text": [
            "/usr/local/lib/python3.10/dist-packages/torchvision/models/_utils.py:208: UserWarning: The parameter 'pretrained' is deprecated since 0.13 and may be removed in the future, please use 'weights' instead.\n",
            "  warnings.warn(\n",
            "/usr/local/lib/python3.10/dist-packages/torchvision/models/_utils.py:223: UserWarning: Arguments other than a weight enum or `None` for 'weights' are deprecated since 0.13 and may be removed in the future. The current behavior is equivalent to passing `weights=VGG16_Weights.IMAGENET1K_V1`. You can also use `weights=VGG16_Weights.DEFAULT` to get the most up-to-date weights.\n",
            "  warnings.warn(msg)\n",
            "-(0, 64)-\n",
            "-(1, 128)-\n",
            "-(2, 256)-\n",
            "-(3, 512)-\n",
            "Done! total time: 69.68834948539734\n"
          ]
        }
      ]
    }
  ]
}